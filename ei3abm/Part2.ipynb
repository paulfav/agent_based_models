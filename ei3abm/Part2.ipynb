{
  "cells": [
    {
      "cell_type": "code",
      "execution_count": null,
      "metadata": {
        "colab": {
          "base_uri": "https://localhost:8080/"
        },
        "id": "kY0mR5bGphE0",
        "outputId": "95337030-c7c8-4571-8805-d4e64fb4aad7"
      },
      "outputs": [],
      "source": []
    },
    {
      "cell_type": "code",
      "execution_count": 14,
      "metadata": {
        "id": "gtuKbMPUNK0Z"
      },
      "outputs": [],
      "source": [
        "import numpy as np\n",
        "import pandas as pd \n",
        "import matplotlib.pyplot as plt\n",
        "import seaborn as sns\n",
        "import powerlaw as pl\n",
        "import operator\n",
        "\n",
        "from  scipy.stats import powerlaw"
      ]
    },
    {
      "cell_type": "markdown",
      "metadata": {},
      "source": [
        "## Part 2 : Investor behaviour"
      ]
    },
    {
      "cell_type": "code",
      "execution_count": 15,
      "metadata": {
        "id": "SK_e_XBeNO8h"
      },
      "outputs": [],
      "source": [
        "price_df = pd.read_csv(\"ZEL_Prices.csv\")\n",
        "investors_df = pd.read_csv(\"ZEL_Investors.csv\")\n",
        "P=price_df['close']\n",
        "I=investors_df['position']"
      ]
    },
    {
      "cell_type": "code",
      "execution_count": 16,
      "metadata": {
        "colab": {
          "base_uri": "https://localhost:8080/",
          "height": 424
        },
        "id": "YoT70T-0OMdE",
        "outputId": "b252501c-fc0f-45bf-cc34-73d3cbf60afc"
      },
      "outputs": [
        {
          "data": {
            "text/html": [
              "<div>\n",
              "<style scoped>\n",
              "    .dataframe tbody tr th:only-of-type {\n",
              "        vertical-align: middle;\n",
              "    }\n",
              "\n",
              "    .dataframe tbody tr th {\n",
              "        vertical-align: top;\n",
              "    }\n",
              "\n",
              "    .dataframe thead th {\n",
              "        text-align: right;\n",
              "    }\n",
              "</style>\n",
              "<table border=\"1\" class=\"dataframe\">\n",
              "  <thead>\n",
              "    <tr style=\"text-align: right;\">\n",
              "      <th></th>\n",
              "      <th>id_price</th>\n",
              "      <th>date</th>\n",
              "      <th>close</th>\n",
              "      <th>open</th>\n",
              "      <th>max</th>\n",
              "      <th>min</th>\n",
              "      <th>volume</th>\n",
              "    </tr>\n",
              "  </thead>\n",
              "  <tbody>\n",
              "    <tr>\n",
              "      <th>0</th>\n",
              "      <td>1</td>\n",
              "      <td>2000-01-03</td>\n",
              "      <td>3.60</td>\n",
              "      <td>3.58</td>\n",
              "      <td>3.64</td>\n",
              "      <td>3.52</td>\n",
              "      <td>1318820</td>\n",
              "    </tr>\n",
              "    <tr>\n",
              "      <th>1</th>\n",
              "      <td>2</td>\n",
              "      <td>2000-01-04</td>\n",
              "      <td>3.46</td>\n",
              "      <td>3.58</td>\n",
              "      <td>3.61</td>\n",
              "      <td>3.41</td>\n",
              "      <td>367385</td>\n",
              "    </tr>\n",
              "    <tr>\n",
              "      <th>2</th>\n",
              "      <td>3</td>\n",
              "      <td>2000-01-05</td>\n",
              "      <td>3.33</td>\n",
              "      <td>3.38</td>\n",
              "      <td>3.40</td>\n",
              "      <td>3.24</td>\n",
              "      <td>441030</td>\n",
              "    </tr>\n",
              "    <tr>\n",
              "      <th>3</th>\n",
              "      <td>4</td>\n",
              "      <td>2000-01-07</td>\n",
              "      <td>3.46</td>\n",
              "      <td>3.36</td>\n",
              "      <td>3.48</td>\n",
              "      <td>3.36</td>\n",
              "      <td>207440</td>\n",
              "    </tr>\n",
              "    <tr>\n",
              "      <th>4</th>\n",
              "      <td>5</td>\n",
              "      <td>2000-01-10</td>\n",
              "      <td>3.42</td>\n",
              "      <td>3.50</td>\n",
              "      <td>3.50</td>\n",
              "      <td>3.40</td>\n",
              "      <td>251485</td>\n",
              "    </tr>\n",
              "    <tr>\n",
              "      <th>...</th>\n",
              "      <td>...</td>\n",
              "      <td>...</td>\n",
              "      <td>...</td>\n",
              "      <td>...</td>\n",
              "      <td>...</td>\n",
              "      <td>...</td>\n",
              "      <td>...</td>\n",
              "    </tr>\n",
              "    <tr>\n",
              "      <th>1959</th>\n",
              "      <td>1960</td>\n",
              "      <td>2007-10-10</td>\n",
              "      <td>7.71</td>\n",
              "      <td>7.95</td>\n",
              "      <td>8.05</td>\n",
              "      <td>7.67</td>\n",
              "      <td>2554307</td>\n",
              "    </tr>\n",
              "    <tr>\n",
              "      <th>1960</th>\n",
              "      <td>1961</td>\n",
              "      <td>2007-10-11</td>\n",
              "      <td>7.83</td>\n",
              "      <td>7.69</td>\n",
              "      <td>7.92</td>\n",
              "      <td>7.67</td>\n",
              "      <td>1511764</td>\n",
              "    </tr>\n",
              "    <tr>\n",
              "      <th>1961</th>\n",
              "      <td>1962</td>\n",
              "      <td>2007-10-12</td>\n",
              "      <td>7.77</td>\n",
              "      <td>7.76</td>\n",
              "      <td>7.85</td>\n",
              "      <td>7.72</td>\n",
              "      <td>458365</td>\n",
              "    </tr>\n",
              "    <tr>\n",
              "      <th>1962</th>\n",
              "      <td>1963</td>\n",
              "      <td>2007-10-15</td>\n",
              "      <td>7.96</td>\n",
              "      <td>7.89</td>\n",
              "      <td>8.21</td>\n",
              "      <td>7.84</td>\n",
              "      <td>3323438</td>\n",
              "    </tr>\n",
              "    <tr>\n",
              "      <th>1963</th>\n",
              "      <td>1964</td>\n",
              "      <td>2007-10-16</td>\n",
              "      <td>7.92</td>\n",
              "      <td>7.93</td>\n",
              "      <td>8.14</td>\n",
              "      <td>7.89</td>\n",
              "      <td>2121940</td>\n",
              "    </tr>\n",
              "  </tbody>\n",
              "</table>\n",
              "<p>1964 rows × 7 columns</p>\n",
              "</div>"
            ],
            "text/plain": [
              "      id_price        date  close  open   max   min   volume\n",
              "0            1  2000-01-03   3.60  3.58  3.64  3.52  1318820\n",
              "1            2  2000-01-04   3.46  3.58  3.61  3.41   367385\n",
              "2            3  2000-01-05   3.33  3.38  3.40  3.24   441030\n",
              "3            4  2000-01-07   3.46  3.36  3.48  3.36   207440\n",
              "4            5  2000-01-10   3.42  3.50  3.50  3.40   251485\n",
              "...        ...         ...    ...   ...   ...   ...      ...\n",
              "1959      1960  2007-10-10   7.71  7.95  8.05  7.67  2554307\n",
              "1960      1961  2007-10-11   7.83  7.69  7.92  7.67  1511764\n",
              "1961      1962  2007-10-12   7.77  7.76  7.85  7.72   458365\n",
              "1962      1963  2007-10-15   7.96  7.89  8.21  7.84  3323438\n",
              "1963      1964  2007-10-16   7.92  7.93  8.14  7.89  2121940\n",
              "\n",
              "[1964 rows x 7 columns]"
            ]
          },
          "execution_count": 16,
          "metadata": {},
          "output_type": "execute_result"
        }
      ],
      "source": [
        "price_df\n"
      ]
    },
    {
      "cell_type": "code",
      "execution_count": 17,
      "metadata": {
        "colab": {
          "base_uri": "https://localhost:8080/",
          "height": 424
        },
        "id": "2S8diM8vOPJ8",
        "outputId": "59d8c62d-d7a7-4a7f-cff7-4d9932ece9b9"
      },
      "outputs": [
        {
          "data": {
            "text/html": [
              "<div>\n",
              "<style scoped>\n",
              "    .dataframe tbody tr th:only-of-type {\n",
              "        vertical-align: middle;\n",
              "    }\n",
              "\n",
              "    .dataframe tbody tr th {\n",
              "        vertical-align: top;\n",
              "    }\n",
              "\n",
              "    .dataframe thead th {\n",
              "        text-align: right;\n",
              "    }\n",
              "</style>\n",
              "<table border=\"1\" class=\"dataframe\">\n",
              "  <thead>\n",
              "    <tr style=\"text-align: right;\">\n",
              "      <th></th>\n",
              "      <th>investor_id</th>\n",
              "      <th>date</th>\n",
              "      <th>position</th>\n",
              "    </tr>\n",
              "  </thead>\n",
              "  <tbody>\n",
              "    <tr>\n",
              "      <th>0</th>\n",
              "      <td>18433</td>\n",
              "      <td>2000-01-03</td>\n",
              "      <td>0.0</td>\n",
              "    </tr>\n",
              "    <tr>\n",
              "      <th>1</th>\n",
              "      <td>18433</td>\n",
              "      <td>2000-01-04</td>\n",
              "      <td>0.0</td>\n",
              "    </tr>\n",
              "    <tr>\n",
              "      <th>2</th>\n",
              "      <td>18433</td>\n",
              "      <td>2000-01-05</td>\n",
              "      <td>0.0</td>\n",
              "    </tr>\n",
              "    <tr>\n",
              "      <th>3</th>\n",
              "      <td>18433</td>\n",
              "      <td>2000-01-07</td>\n",
              "      <td>0.0</td>\n",
              "    </tr>\n",
              "    <tr>\n",
              "      <th>4</th>\n",
              "      <td>18433</td>\n",
              "      <td>2000-01-10</td>\n",
              "      <td>0.0</td>\n",
              "    </tr>\n",
              "    <tr>\n",
              "      <th>...</th>\n",
              "      <td>...</td>\n",
              "      <td>...</td>\n",
              "      <td>...</td>\n",
              "    </tr>\n",
              "    <tr>\n",
              "      <th>155151</th>\n",
              "      <td>744</td>\n",
              "      <td>2007-10-10</td>\n",
              "      <td>0.0</td>\n",
              "    </tr>\n",
              "    <tr>\n",
              "      <th>155152</th>\n",
              "      <td>744</td>\n",
              "      <td>2007-10-11</td>\n",
              "      <td>0.0</td>\n",
              "    </tr>\n",
              "    <tr>\n",
              "      <th>155153</th>\n",
              "      <td>744</td>\n",
              "      <td>2007-10-12</td>\n",
              "      <td>0.0</td>\n",
              "    </tr>\n",
              "    <tr>\n",
              "      <th>155154</th>\n",
              "      <td>744</td>\n",
              "      <td>2007-10-15</td>\n",
              "      <td>0.0</td>\n",
              "    </tr>\n",
              "    <tr>\n",
              "      <th>155155</th>\n",
              "      <td>744</td>\n",
              "      <td>2007-10-16</td>\n",
              "      <td>0.0</td>\n",
              "    </tr>\n",
              "  </tbody>\n",
              "</table>\n",
              "<p>155156 rows × 3 columns</p>\n",
              "</div>"
            ],
            "text/plain": [
              "        investor_id        date  position\n",
              "0             18433  2000-01-03       0.0\n",
              "1             18433  2000-01-04       0.0\n",
              "2             18433  2000-01-05       0.0\n",
              "3             18433  2000-01-07       0.0\n",
              "4             18433  2000-01-10       0.0\n",
              "...             ...         ...       ...\n",
              "155151          744  2007-10-10       0.0\n",
              "155152          744  2007-10-11       0.0\n",
              "155153          744  2007-10-12       0.0\n",
              "155154          744  2007-10-15       0.0\n",
              "155155          744  2007-10-16       0.0\n",
              "\n",
              "[155156 rows x 3 columns]"
            ]
          },
          "execution_count": 17,
          "metadata": {},
          "output_type": "execute_result"
        }
      ],
      "source": [
        "investors_df"
      ]
    },
    {
      "cell_type": "code",
      "execution_count": 18,
      "metadata": {
        "colab": {
          "base_uri": "https://localhost:8080/"
        },
        "id": "lTJz-kAePqoF",
        "outputId": "5a4f1c78-e724-4b7b-daac-cba1fa225a92"
      },
      "outputs": [],
      "source": [
        "# Period of investment\n",
        "T=len(price_df)\n",
        "# Number of investors \n",
        "N=int(len(investors_df)/len(price_df))\n",
        "pos= np.array(investors_df['position'])\n"
      ]
    },
    {
      "cell_type": "code",
      "execution_count": 19,
      "metadata": {},
      "outputs": [
        {
          "name": "stdout",
          "output_type": "stream",
          "text": [
            "{18433: 'reversion', 18427: 'trend following', 18333: 'neutral', 18322: 'neutral', 18321: 'neutral', 18317: 'neutral', 18232: 'neutral', 18228: 'neutral', 17930: 'neutral', 17542: 'neutral', 16942: 'reversion', 16818: 'neutral', 16511: 'neutral', 15950: 'neutral', 15858: 'neutral', 15594: 'neutral', 15588: 'neutral', 15330: 'neutral', 15158: 'neutral', 15103: 'neutral', 14968: 'reversion', 14963: 'trend following', 14950: 'neutral', 14653: 'neutral', 14503: 'neutral', 14450: 'neutral', 13785: 'neutral', 13342: 'neutral', 13341: 'neutral', 13330: 'neutral', 13303: 'neutral', 11716: 'neutral', 11586: 'neutral', 11013: 'neutral', 10966: 'neutral', 10782: 'neutral', 10571: 'neutral', 10515: 'neutral', 10359: 'neutral', 10200: 'neutral', 10157: 'neutral', 9163: 'neutral', 9060: 'reversion', 8684: 'neutral', 8625: 'neutral', 8553: 'neutral', 8239: 'neutral', 8234: 'neutral', 8085: 'neutral', 7936: 'neutral', 7916: 'neutral', 7304: 'neutral', 6960: 'neutral', 6873: 'neutral', 6647: 'neutral', 6491: 'neutral', 6429: 'neutral', 6141: 'neutral', 5948: 'neutral', 5325: 'neutral', 5324: 'neutral', 5214: 'neutral', 5182: 'neutral', 4934: 'neutral', 4650: 'neutral', 4283: 'neutral', 4067: 'trend following', 4066: 'neutral', 3238: 'trend following', 3023: 'reversion', 2955: 'neutral', 2525: 'neutral', 2503: 'reversion', 1934: 'neutral', 1495: 'trend following', 1312: 'neutral', 1309: 'neutral', 1262: 'neutral', 744: 'neutral'}\n",
            "6 5 68\n"
          ]
        }
      ],
      "source": [
        "difference = [(np.diff(pos[i:i+T])) for i in range (N)]\n",
        "\n",
        "retur = np.diff(price_df['open'])\n",
        "\n",
        "correl = [np.corrcoef(difference[i],retur)[0,1] for i in range(N)]\n",
        "\n",
        "\n",
        "classification = {}\n",
        "for i in range(N):\n",
        "    id= investors_df['investor_id'].iloc[i*T]\n",
        "    if correl[i]<-0.01 : \n",
        "        classification[id] = \"reversion\"\n",
        "    elif correl[i]>0.01 : \n",
        "        classification[id] = \"trend following\"\n",
        "    else : \n",
        "        classification[id] = \"neutral\"\n",
        "\n",
        "print(classification)\n",
        "rev,tf,n = operator.countOf(classification.values(),'reversion'),operator.countOf(classification.values(),'trend following'),operator.countOf(classification.values(),'neutral')\n",
        "print(rev,tf,n)\n",
        "    "
      ]
    },
    {
      "cell_type": "code",
      "execution_count": 20,
      "metadata": {},
      "outputs": [
        {
          "name": "stdout",
          "output_type": "stream",
          "text": [
            "[[0.07692308 0.         0.05454545]\n",
            " [0.07692308 0.09090909 0.03636364]\n",
            " [0.84615385 0.90909091 0.90909091]]\n"
          ]
        }
      ],
      "source": [
        "duree = int(T/2)\n",
        "retur1, retur2  = np.diff(price_df['open'].iloc[:duree]), np.diff(price_df['open'].iloc[duree:])\n",
        "\n",
        "\n",
        "diff1 = [(np.diff(pos[i:i+duree])) for i in range (N)]\n",
        "diff2 = [(np.diff(pos[i+duree:i+T])) for i in range (N)]\n",
        "\n",
        "correl1 = [np.corrcoef(diff1[i],retur1)[0,1] for i in range(N)]\n",
        "correl2 = [np.corrcoef(diff2[i],retur2)[0,1] for i in range(N)]\n",
        "\n",
        "class1= {}\n",
        "for i in range(N):\n",
        "    id= investors_df['investor_id'].iloc[i*T]\n",
        "    if correl1[i]<-0.01 : \n",
        "        class1[id] = \"reversion\"\n",
        "    elif correl1[i]>0.01 : \n",
        "        class1[id] = \"trend following\"\n",
        "    else : \n",
        "        class1[id] = \"neutral\"\n",
        "\n",
        "\n",
        "class2= {}\n",
        "for i in range(N):\n",
        "    id= investors_df['investor_id'].iloc[i*T]\n",
        "    if correl2[i]<-0.01 : \n",
        "        class2[id] = \"reversion\"\n",
        "    elif correl2[i]>0.01 : \n",
        "        class2[id] = \"trend following\"\n",
        "    else : \n",
        "        class2[id] = \"neutral\"\n",
        "\n",
        "\n",
        "\n",
        "\n",
        "rev1,tf1,n1 = operator.countOf(class1.values(),'reversion'),operator.countOf(class1.values(),'trend following'),operator.countOf(class1.values(),'neutral')\n",
        "transition = np.zeros((3,3))\n",
        "#lines= [reversion, tf, neutral]\n",
        "# Creating the transition matrix\n",
        "for key in class1 : \n",
        "    if class1[key]== 'reversion' and class2[key]=='reversion':\n",
        "        transition[0,0]+=1\n",
        "    elif class1[key]== 'reversion' and class2[key]=='trend following':\n",
        "        transition[1,0]+=1\n",
        "    elif class1[key]== 'reversion' and class2[key]=='neutral':\n",
        "        transition[2,0]+=1\n",
        "    elif class1[key]== 'trend following' and class2[key]=='reversion':\n",
        "        transition[0,1]+=1\n",
        "    elif class1[key]== 'trend following' and class2[key]=='trend following':\n",
        "        transition[1,1]+=1\n",
        "    elif class1[key]== 'trend following' and class2[key]=='neutral':\n",
        "        transition[2,1]+=1\n",
        "    elif class1[key]== 'neutral' and class2[key]=='reversion':\n",
        "        transition[0,2]+=1\n",
        "    elif class1[key]== 'neutral' and class2[key]=='trend following':\n",
        "        transition[1,2]+=1\n",
        "    elif class1[key]== 'neutral' and class2[key]=='neutral':\n",
        "        transition[2,2]+=1 \n",
        "    \n",
        "transition[:,0]*=1/rev1\n",
        "transition[:,1]*=1/tf1\n",
        "transition[:,2]*=1/n1\n",
        "\n",
        "\n",
        "print(transition)\n",
        "\n",
        "\n",
        "\n",
        "\n",
        "    \n",
        "\n",
        "\n"
      ]
    },
    {
      "cell_type": "markdown",
      "metadata": {},
      "source": [
        "We create two ways of computing the value invested by the investors. \n",
        "\n",
        "In m, we consider the maximum value invested at a given time. \n",
        "In n, we consider the mean value invested"
      ]
    },
    {
      "cell_type": "code",
      "execution_count": 21,
      "metadata": {
        "id": "0WMwq7wpS1yy"
      },
      "outputs": [],
      "source": [
        "\n",
        "\n",
        "\n",
        "m=[0 for i in range(N)]\n",
        "n=[[] for i in range(N)]\n",
        "for i in range(N):\n",
        "  for t in range(T):\n",
        "    \n",
        "    l=i*T + t\n",
        "    m1 = P[t]*I[l]\n",
        "    m[i]= max(m[i],m1)\n",
        "    if m !=0:\n",
        "      n[i].append(m1)\n",
        "\n",
        "\n",
        "  n[i]= np.mean(np.abs(n[i]))\n",
        "\n"
      ]
    },
    {
      "cell_type": "code",
      "execution_count": null,
      "metadata": {
        "colab": {
          "base_uri": "https://localhost:8080/",
          "height": 529
        },
        "id": "jQO_bNjumrHY",
        "outputId": "09266535-cfdd-447a-d83b-5e63da3b17ae"
      },
      "outputs": [],
      "source": [
        "\n"
      ]
    },
    {
      "cell_type": "code",
      "execution_count": 22,
      "metadata": {
        "colab": {
          "base_uri": "https://localhost:8080/",
          "height": 187
        },
        "id": "n1HnqL6iqBc2",
        "outputId": "b6f62ca6-a9b0-47e1-f5af-daceecd8ef2b"
      },
      "outputs": [
        {
          "name": "stdout",
          "output_type": "stream",
          "text": [
            "2.1623322703174357\n",
            "1.9928240298981241\n"
          ]
        },
        {
          "name": "stderr",
          "output_type": "stream",
          "text": [
            "Values less than or equal to 0 in data. Throwing out 0 or negative values\n",
            "Calculating best minimal value for power law fit\n",
            "/Users/paulfaverjon/miniforge3/envs/finance/lib/python3.9/site-packages/powerlaw.py:699: RuntimeWarning: invalid value encountered in true_divide\n",
            "  (CDF_diff**2) /\n",
            "Values less than or equal to 0 in data. Throwing out 0 or negative values\n",
            "Calculating best minimal value for power law fit\n"
          ]
        }
      ],
      "source": [
        "mypl=pl.Fit(np.array(m))\n",
        "c= mypl.alpha\n",
        "print(c)\n",
        "\n",
        "mypl=pl.Fit(np.array(n))\n",
        "d= mypl.alpha\n",
        "print(d)\n"
      ]
    },
    {
      "cell_type": "code",
      "execution_count": 23,
      "metadata": {},
      "outputs": [
        {
          "name": "stderr",
          "output_type": "stream",
          "text": [
            "/var/folders/57/_nkrw5g16dsdmygf08scq6b00000gn/T/ipykernel_17887/3572626082.py:5: RuntimeWarning: divide by zero encountered in power\n",
            "  res = np.multiply(np.power(proba.x, 1-c),10**3)\n"
          ]
        },
        {
          "data": {
            "image/png": "[encoded data removed]",
            "text/plain": [
              "<Figure size 432x288 with 1 Axes>"
            ]
          },
          "metadata": {
            "needs_background": "light"
          },
          "output_type": "display_data"
        },
        {
          "name": "stderr",
          "output_type": "stream",
          "text": [
            "/var/folders/57/_nkrw5g16dsdmygf08scq6b00000gn/T/ipykernel_17887/3572626082.py:19: RuntimeWarning: divide by zero encountered in power\n",
            "  res = np.multiply(np.power(proba.x, 1-c),10**3)\n"
          ]
        },
        {
          "data": {
            "image/png": "[encoded data removed]",
            "text/plain": [
              "<Figure size 432x288 with 1 Axes>"
            ]
          },
          "metadata": {
            "needs_background": "light"
          },
          "output_type": "display_data"
        }
      ],
      "source": [
        "from statsmodels.distributions.empirical_distribution import ECDF\n",
        "retur = np.abs(m)\n",
        "proba = ECDF(retur)\n",
        "plt.plot(proba.x, 1-proba.y)\n",
        "res = np.multiply(np.power(proba.x, 1-c),10**3)\n",
        "plt.plot(proba.x, res)\n",
        "plt.xscale('log')\n",
        "plt.yscale('log')\n",
        "plt.title(\"Considering max\")\n",
        "plt.xlabel(\"Value\")\n",
        "plt.ylabel(\"CCDF\")\n",
        "plt.show()\n",
        "\n",
        "\n",
        "\n",
        "retur = np.abs(n)\n",
        "proba = ECDF(retur)\n",
        "plt.plot(proba.x, 1-proba.y)\n",
        "res = np.multiply(np.power(proba.x, 1-c),10**3)\n",
        "plt.plot(proba.x, res)\n",
        "plt.xscale('log')\n",
        "plt.yscale('log')\n",
        "plt.title(\"Considering mean invested value\")\n",
        "plt.xlabel(\"Value\")\n",
        "plt.ylabel(\"CCDF\")\n",
        "plt.show()"
      ]
    },
    {
      "cell_type": "markdown",
      "metadata": {},
      "source": [
        "Number of change of invested volume.\n",
        "\n",
        "All the investors have exactly the same number of changes"
      ]
    },
    {
      "cell_type": "code",
      "execution_count": 24,
      "metadata": {},
      "outputs": [
        {
          "name": "stdout",
          "output_type": "stream",
          "text": [
            "[55. 55. 55. 55. 55. 55. 55. 55. 55. 55. 55. 55. 55. 55. 55. 55. 55. 55.\n",
            " 55. 55. 55. 55. 55. 55. 55. 55. 55. 55. 55. 55. 55. 55. 55. 55. 55. 55.\n",
            " 55. 55. 55. 55. 55. 55. 55. 55. 55. 55. 55. 55. 55. 55. 55. 55. 55. 55.\n",
            " 55. 55. 55. 55. 55. 55. 55. 55. 55. 55. 55. 55. 55. 55. 55. 55. 55. 55.\n",
            " 55. 55. 55. 55. 55. 55. 55.]\n"
          ]
        }
      ],
      "source": [
        "change = np.zeros(N)\n",
        "\n",
        "\n",
        "\n",
        "for i in range(N): \n",
        "    change[i]= sum((x!=0) for x in difference[i])\n",
        "\n",
        "print(change)\n"
      ]
    },
    {
      "cell_type": "code",
      "execution_count": null,
      "metadata": {},
      "outputs": [],
      "source": []
    }
  ],
  "metadata": {
    "colab": {
      "name": "Untitled5.ipynb",
      "provenance": []
    },
    "interpreter": {
      "hash": "6fac917f8e864b438d42091b601d431dcf013140b2921ec2ca65d8a0dd29362b"
    },
    "kernelspec": {
      "display_name": "Python 3.9.9 ('finance')",
      "language": "python",
      "name": "python3"
    },
    "language_info": {
      "codemirror_mode": {
        "name": "ipython",
        "version": 3
      },
      "file_extension": ".py",
      "mimetype": "text/x-python",
      "name": "python",
      "nbconvert_exporter": "python",
      "pygments_lexer": "ipython3",
      "version": "3.9.9 | packaged by conda-forge | (main, Dec 20 2021, 02:41:07) \n[Clang 11.1.0 ]"
    }
  },
  "nbformat": 4,
  "nbformat_minor": 0
}
